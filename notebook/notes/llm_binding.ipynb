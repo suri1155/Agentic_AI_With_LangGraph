{
 "cells": [
  {
   "cell_type": "markdown",
   "id": "b9a26732",
   "metadata": {},
   "source": [
    "Learning how binding works in langchain\n",
    "youtube: https://www.youtube.com/watch?v=obg7vxXrSFc\n",
    "medium notes: https://medium.com/@anubhavm48/practical-introduction-to-llm-tools-in-lang-chain-bb6b8b42d8b6"
   ]
  },
  {
   "cell_type": "markdown",
   "id": "a9afb2e1",
   "metadata": {},
   "source": [
    "Tool creation in Langchain can be done in 2 ways, \n",
    "1 using decorator i,e @tool \n",
    "2. using StrucutredTool\n"
   ]
  },
  {
   "cell_type": "code",
   "execution_count": 1,
   "id": "575c9914",
   "metadata": {},
   "outputs": [],
   "source": [
    "from langchain_core.tools import StructuredTool"
   ]
  },
  {
   "cell_type": "markdown",
   "id": "bbf911b2",
   "metadata": {},
   "source": [
    "Creating 2 functions for tool usage"
   ]
  },
  {
   "cell_type": "code",
   "execution_count": 2,
   "id": "29f96e21",
   "metadata": {},
   "outputs": [
    {
     "ename": "ValueError",
     "evalue": "Function must have a docstring if description not provided.",
     "output_type": "error",
     "traceback": [
      "\u001b[31m---------------------------------------------------------------------------\u001b[39m",
      "\u001b[31mValueError\u001b[39m                                Traceback (most recent call last)",
      "\u001b[36mCell\u001b[39m\u001b[36m \u001b[39m\u001b[32mIn[2]\u001b[39m\u001b[32m, line 4\u001b[39m\n\u001b[32m      1\u001b[39m \u001b[38;5;28;01mdef\u001b[39;00m\u001b[38;5;250m \u001b[39m\u001b[34madd\u001b[39m(a:\u001b[38;5;28mint\u001b[39m, b:\u001b[38;5;28mint\u001b[39m) -> \u001b[38;5;28mint\u001b[39m:\n\u001b[32m      2\u001b[39m     \u001b[38;5;28;01mreturn\u001b[39;00m a+b\n\u001b[32m----> \u001b[39m\u001b[32m4\u001b[39m adder = \u001b[43mStructuredTool\u001b[49m\u001b[43m.\u001b[49m\u001b[43mfrom_function\u001b[49m\u001b[43m(\u001b[49m\u001b[43mfunc\u001b[49m\u001b[43m=\u001b[49m\u001b[43madd\u001b[49m\u001b[43m)\u001b[49m\n",
      "\u001b[36mFile \u001b[39m\u001b[32mc:\\work\\Agentic_AI\\Agentic_AI_With_LangGraph\\.venv\\Lib\\site-packages\\langchain_core\\tools\\structured.py:211\u001b[39m, in \u001b[36mStructuredTool.from_function\u001b[39m\u001b[34m(cls, func, coroutine, name, description, return_direct, args_schema, infer_schema, response_format, parse_docstring, error_on_invalid_docstring, **kwargs)\u001b[39m\n\u001b[32m    209\u001b[39m \u001b[38;5;28;01mif\u001b[39;00m description_ \u001b[38;5;129;01mis\u001b[39;00m \u001b[38;5;28;01mNone\u001b[39;00m:\n\u001b[32m    210\u001b[39m     msg = \u001b[33m\"\u001b[39m\u001b[33mFunction must have a docstring if description not provided.\u001b[39m\u001b[33m\"\u001b[39m\n\u001b[32m--> \u001b[39m\u001b[32m211\u001b[39m     \u001b[38;5;28;01mraise\u001b[39;00m \u001b[38;5;167;01mValueError\u001b[39;00m(msg)\n\u001b[32m    212\u001b[39m \u001b[38;5;28;01mif\u001b[39;00m description \u001b[38;5;129;01mis\u001b[39;00m \u001b[38;5;28;01mNone\u001b[39;00m:\n\u001b[32m    213\u001b[39m     \u001b[38;5;66;03m# Only apply if using the function's docstring\u001b[39;00m\n\u001b[32m    214\u001b[39m     description_ = textwrap.dedent(description_).strip()\n",
      "\u001b[31mValueError\u001b[39m: Function must have a docstring if description not provided."
     ]
    }
   ],
   "source": [
    "def add(a:int, b:int) -> int:\n",
    "    return a+b\n",
    "\n",
    "adder = StructuredTool.from_function(func=add)"
   ]
  },
  {
   "cell_type": "markdown",
   "id": "63d3704b",
   "metadata": {},
   "source": [
    "Error generated because we need to provide fucntion docstring, based on the docstring LLM/LRM knows what that fucntion is doing"
   ]
  },
  {
   "cell_type": "code",
   "execution_count": 3,
   "id": "a3759a45",
   "metadata": {},
   "outputs": [],
   "source": [
    "def add(a:int, b:int) -> int:\n",
    "    \"\"\" Adds a and b \"\"\"\n",
    "    return a + b\n",
    "\n",
    "\n",
    "\n",
    "def mul(a:int, b:int) -> int:\n",
    "    \"\"\"multiplies a and b \"\"\"\n",
    "    return a * b\n",
    "\n",
    "adder = StructuredTool.from_function(func=add)\n",
    "multiplier = StructuredTool.from_function(func=mul)"
   ]
  },
  {
   "cell_type": "code",
   "execution_count": 4,
   "id": "7c383eba",
   "metadata": {},
   "outputs": [],
   "source": [
    "# creating tool list\n",
    "tool_list = [adder, multiplier]"
   ]
  },
  {
   "cell_type": "code",
   "execution_count": 5,
   "id": "2421dfc5",
   "metadata": {},
   "outputs": [],
   "source": [
    "from dotenv import load_dotenv\n",
    "from langchain_groq import ChatGroq\n",
    "import os"
   ]
  },
  {
   "cell_type": "code",
   "execution_count": 6,
   "id": "7f7fd0b5",
   "metadata": {},
   "outputs": [],
   "source": [
    "llm = ChatGroq(\n",
    "    model=\"deepseek-r1-distill-llama-70b\", api_key=os.getenv(\"GROQ_API_KEY\"))"
   ]
  },
  {
   "cell_type": "code",
   "execution_count": 7,
   "id": "b7d3539a",
   "metadata": {},
   "outputs": [],
   "source": [
    "# now bind available tools to the llm\n",
    "llm_with_tools = llm.bind_tools(tools=tool_list)"
   ]
  },
  {
   "cell_type": "code",
   "execution_count": 8,
   "id": "38a3ba3e",
   "metadata": {},
   "outputs": [
    {
     "data": {
      "text/plain": [
       "AIMessage(content='', additional_kwargs={'reasoning_content': 'Okay, so I\\'m trying to figure out how to add 5 and 10 using the tools provided. I see that there are two functions available: add and mul. Since I need to add numbers, the add function makes sense here. \\n\\nFirst, I\\'ll need to call the add function with the arguments a=5 and b=10. I should make sure that the JSON structure is correct, including the function name and the arguments. Let me double-check the syntax to ensure there are no mistakes.\\n\\nI remember that the function call should be wrapped in <tool_call> tags and the arguments should be a JSON object. So, putting it all together, the final tool call should look like this:\\n\\n<tool_call>{\"name\":\"add\",\"arguments\":{\"a\":5,\"b\":10}}</tool_call>\\n\\nI think that should do it. Hopefully, this will correctly add the two numbers and give me the result I need.\\n', 'tool_calls': [{'id': '83xh7j27d', 'function': {'arguments': '{\"a\":5,\"b\":10}', 'name': 'add'}, 'type': 'function'}]}, response_metadata={'token_usage': {'completion_tokens': 233, 'prompt_tokens': 177, 'total_tokens': 410, 'completion_time': 0.876437762, 'prompt_time': 0.01857315, 'queue_time': 0.055551452, 'total_time': 0.895010912}, 'model_name': 'deepseek-r1-distill-llama-70b', 'system_fingerprint': 'fp_1bbe7845ec', 'finish_reason': 'tool_calls', 'logprobs': None}, id='run--a82c3055-18fc-495d-83cb-fbc49f33f30c-0', tool_calls=[{'name': 'add', 'args': {'a': 5, 'b': 10}, 'id': '83xh7j27d', 'type': 'tool_call'}], usage_metadata={'input_tokens': 177, 'output_tokens': 233, 'total_tokens': 410})"
      ]
     },
     "execution_count": 8,
     "metadata": {},
     "output_type": "execute_result"
    }
   ],
   "source": [
    "llm_with_tools.invoke(\"calculate addition of 5 and 10\")"
   ]
  },
  {
   "cell_type": "markdown",
   "id": "13fffcdd",
   "metadata": {},
   "source": [
    "Now we will pass query to llm which has multiple steps to perform"
   ]
  },
  {
   "cell_type": "code",
   "execution_count": 15,
   "id": "8cc92d6c",
   "metadata": {},
   "outputs": [],
   "source": [
    "query = \"Multiply 2 with 5 and then, add 15 to it\""
   ]
  },
  {
   "cell_type": "code",
   "execution_count": 16,
   "id": "e469b7f4",
   "metadata": {},
   "outputs": [],
   "source": [
    "from langchain_core.messages import HumanMessage"
   ]
  },
  {
   "cell_type": "code",
   "execution_count": 34,
   "id": "b2bdd11a",
   "metadata": {},
   "outputs": [],
   "source": [
    "# Initiating the messages list with the user query as the first element\n",
    "messages = []\n",
    "messages = [HumanMessage(query)]"
   ]
  },
  {
   "cell_type": "code",
   "execution_count": 35,
   "id": "c2f4526a",
   "metadata": {},
   "outputs": [],
   "source": [
    "ai_msg = llm_with_tools.invoke(messages) # NLP process via LLM\n",
    "messages.append(ai_msg) # keeps track of all the messages like intital query and NLP processed msg"
   ]
  },
  {
   "cell_type": "code",
   "execution_count": 36,
   "id": "09d10e75",
   "metadata": {},
   "outputs": [
    {
     "data": {
      "text/plain": [
       "[HumanMessage(content='Multiply 2 with 5 and then, add 15 to it', additional_kwargs={}, response_metadata={}),\n",
       " AIMessage(content='', additional_kwargs={'reasoning_content': 'Alright, so the user has given me a problem to solve: \"Multiply 2 with 5 and then, add 15 to it.\" I need to figure out how to approach this using the tools provided. Let me break it down step by step.\\n\\nFirst, I need to understand the operations involved. The problem mentions two mathematical operations: multiplication and addition. The tools available are \"add\" and \"mul,\" which correspond to addition and multiplication functions. That\\'s perfect because the problem requires both operations.\\n\\nThe first part of the problem is multiplying 2 by 5. I remember that the multiplication function is called \"mul\" and it takes two parameters, a and b. So, I should call the \"mul\" function with a=2 and b=5. That should give me the product of 2 and 5.\\n\\nNext, after obtaining the result from the multiplication, I need to add 15 to it. The addition function is called \"add,\" which also takes two parameters, a and b. Here, a would be the result from the multiplication, and b would be 15. So, I need to call the \"add\" function with a being the result of the first operation and b=15.\\n\\nI should make sure to structure the function calls correctly. Each function call should be a separate JSON object within the <tool_call> tags. The first call will be for multiplication, and the second will be for addition, using the result of the first call as one of its arguments.\\n\\nI also need to ensure that the function names and arguments are correctly specified. For the multiplication, the function name is \"mul\" with arguments a=2 and b=5. For the addition, the function name is \"add\" with a being the result of the multiplication and b=15.\\n\\nI should also consider the order of operations. Since multiplication comes before addition in this problem, I need to perform the multiplication first and then use its result in the addition step. This sequence is crucial to get the correct final answer.\\n\\nLastly, I should present the function calls in the required XML format, making sure each <tool_call> tag contains the appropriate JSON object with the function name and arguments.\\n\\nSo, putting it all together, I\\'ll first call the \"mul\" function with 2 and 5, then use the result in the \"add\" function along with 15. This should give the correct final answer as per the problem statement.\\n', 'tool_calls': [{'id': 'epzhqxtdh', 'function': {'arguments': '{\"a\":2,\"b\":5}', 'name': 'mul'}, 'type': 'function'}]}, response_metadata={'token_usage': {'completion_tokens': 557, 'prompt_tokens': 183, 'total_tokens': 740, 'completion_time': 2.128718202, 'prompt_time': 0.012456008, 'queue_time': 0.057963862, 'total_time': 2.14117421}, 'model_name': 'deepseek-r1-distill-llama-70b', 'system_fingerprint': 'fp_1bbe7845ec', 'finish_reason': 'tool_calls', 'logprobs': None}, id='run--b34eb740-f785-4f97-9a41-84581a347b04-0', tool_calls=[{'name': 'mul', 'args': {'a': 2, 'b': 5}, 'id': 'epzhqxtdh', 'type': 'tool_call'}], usage_metadata={'input_tokens': 183, 'output_tokens': 557, 'total_tokens': 740})]"
      ]
     },
     "execution_count": 36,
     "metadata": {},
     "output_type": "execute_result"
    }
   ],
   "source": [
    "messages"
   ]
  },
  {
   "cell_type": "code",
   "execution_count": 37,
   "id": "7e8d0972",
   "metadata": {},
   "outputs": [
    {
     "data": {
      "text/plain": [
       "[{'name': 'mul',\n",
       "  'args': {'a': 2, 'b': 5},\n",
       "  'id': 'epzhqxtdh',\n",
       "  'type': 'tool_call'}]"
      ]
     },
     "execution_count": 37,
     "metadata": {},
     "output_type": "execute_result"
    }
   ],
   "source": [
    "ai_msg.tool_calls"
   ]
  },
  {
   "cell_type": "code",
   "execution_count": 38,
   "id": "8b8b1dc9",
   "metadata": {},
   "outputs": [
    {
     "name": "stdout",
     "output_type": "stream",
     "text": [
      "[HumanMessage(content='Multiply 2 with 5 and then, add 15 to it', additional_kwargs={}, response_metadata={}), AIMessage(content='', additional_kwargs={'reasoning_content': 'Alright, so the user has given me a problem to solve: \"Multiply 2 with 5 and then, add 15 to it.\" I need to figure out how to approach this using the tools provided. Let me break it down step by step.\\n\\nFirst, I need to understand the operations involved. The problem mentions two mathematical operations: multiplication and addition. The tools available are \"add\" and \"mul,\" which correspond to addition and multiplication functions. That\\'s perfect because the problem requires both operations.\\n\\nThe first part of the problem is multiplying 2 by 5. I remember that the multiplication function is called \"mul\" and it takes two parameters, a and b. So, I should call the \"mul\" function with a=2 and b=5. That should give me the product of 2 and 5.\\n\\nNext, after obtaining the result from the multiplication, I need to add 15 to it. The addition function is called \"add,\" which also takes two parameters, a and b. Here, a would be the result from the multiplication, and b would be 15. So, I need to call the \"add\" function with a being the result of the first operation and b=15.\\n\\nI should make sure to structure the function calls correctly. Each function call should be a separate JSON object within the <tool_call> tags. The first call will be for multiplication, and the second will be for addition, using the result of the first call as one of its arguments.\\n\\nI also need to ensure that the function names and arguments are correctly specified. For the multiplication, the function name is \"mul\" with arguments a=2 and b=5. For the addition, the function name is \"add\" with a being the result of the multiplication and b=15.\\n\\nI should also consider the order of operations. Since multiplication comes before addition in this problem, I need to perform the multiplication first and then use its result in the addition step. This sequence is crucial to get the correct final answer.\\n\\nLastly, I should present the function calls in the required XML format, making sure each <tool_call> tag contains the appropriate JSON object with the function name and arguments.\\n\\nSo, putting it all together, I\\'ll first call the \"mul\" function with 2 and 5, then use the result in the \"add\" function along with 15. This should give the correct final answer as per the problem statement.\\n', 'tool_calls': [{'id': 'epzhqxtdh', 'function': {'arguments': '{\"a\":2,\"b\":5}', 'name': 'mul'}, 'type': 'function'}]}, response_metadata={'token_usage': {'completion_tokens': 557, 'prompt_tokens': 183, 'total_tokens': 740, 'completion_time': 2.128718202, 'prompt_time': 0.012456008, 'queue_time': 0.057963862, 'total_time': 2.14117421}, 'model_name': 'deepseek-r1-distill-llama-70b', 'system_fingerprint': 'fp_1bbe7845ec', 'finish_reason': 'tool_calls', 'logprobs': None}, id='run--b34eb740-f785-4f97-9a41-84581a347b04-0', tool_calls=[{'name': 'mul', 'args': {'a': 2, 'b': 5}, 'id': 'epzhqxtdh', 'type': 'tool_call'}], usage_metadata={'input_tokens': 183, 'output_tokens': 557, 'total_tokens': 740}), ToolMessage(content='10', name='mul', tool_call_id='epzhqxtdh')]\n"
     ]
    }
   ],
   "source": [
    "for tool_call in ai_msg.tool_calls:\n",
    "    selected_tool = {\"add\": adder, \"mul\": multiplier}[tool_call[\"name\"].lower()]\n",
    "    selected_tool\n",
    "    tool_msg = selected_tool.invoke(tool_call)\n",
    "    messages.append(tool_msg)\n",
    "\n",
    "print(messages)"
   ]
  },
  {
   "cell_type": "code",
   "execution_count": 39,
   "id": "2544406b",
   "metadata": {},
   "outputs": [],
   "source": [
    "final_response = llm_with_tools.invoke(messages)"
   ]
  },
  {
   "cell_type": "code",
   "execution_count": 40,
   "id": "f0098de7",
   "metadata": {},
   "outputs": [
    {
     "data": {
      "text/plain": [
       "AIMessage(content='The result of multiplying 2 by 5 is 10. Adding 15 to this result gives us 25. \\n\\n**Answer:** 25', additional_kwargs={'reasoning_content': \"Alright, let's tackle this problem step by step. The user has asked me to multiply 2 by 5 and then add 15 to the result. \\n\\nFirst, I need to understand what's being asked. Multiplication and addition are basic arithmetic operations, so it should be straightforward. I should make sure I perform the operations in the correct order as specified.\\n\\nStarting with the multiplication part: 2 multiplied by 5. I know that 2 times 5 equals 10. So, that's the first step done.\\n\\nNext, I need to add 15 to the result of the multiplication. The multiplication gave me 10, so now I add 15 to that. Adding 15 to 10 gives me 25.\\n\\nI should double-check my calculations to ensure there are no mistakes. Multiplying 2 by 5 is indeed 10, and adding 15 to 10 is 25. Everything checks out.\\n\\nIt's important to present the answer clearly, so the user can easily see the final result without any confusion. I'll make sure to state the answer in a straightforward manner.\\n\"}, response_metadata={'token_usage': {'completion_tokens': 260, 'prompt_tokens': 235, 'total_tokens': 495, 'completion_time': 1.008279814, 'prompt_time': 0.021882998, 'queue_time': 0.058417963, 'total_time': 1.030162812}, 'model_name': 'deepseek-r1-distill-llama-70b', 'system_fingerprint': 'fp_1bbe7845ec', 'finish_reason': 'stop', 'logprobs': None}, id='run--7be7e81a-8393-4481-83c0-7990eaa7a352-0', usage_metadata={'input_tokens': 235, 'output_tokens': 260, 'total_tokens': 495})"
      ]
     },
     "execution_count": 40,
     "metadata": {},
     "output_type": "execute_result"
    }
   ],
   "source": [
    "final_response"
   ]
  },
  {
   "cell_type": "code",
   "execution_count": 41,
   "id": "54f685ff",
   "metadata": {},
   "outputs": [
    {
     "data": {
      "text/plain": [
       "'The result of multiplying 2 by 5 is 10. Adding 15 to this result gives us 25. \\n\\n**Answer:** 25'"
      ]
     },
     "execution_count": 41,
     "metadata": {},
     "output_type": "execute_result"
    }
   ],
   "source": [
    "final_response.content"
   ]
  },
  {
   "cell_type": "code",
   "execution_count": null,
   "id": "7b5a8cb3",
   "metadata": {},
   "outputs": [],
   "source": []
  }
 ],
 "metadata": {
  "kernelspec": {
   "display_name": ".venv",
   "language": "python",
   "name": "python3"
  },
  "language_info": {
   "codemirror_mode": {
    "name": "ipython",
    "version": 3
   },
   "file_extension": ".py",
   "mimetype": "text/x-python",
   "name": "python",
   "nbconvert_exporter": "python",
   "pygments_lexer": "ipython3",
   "version": "3.12.0"
  }
 },
 "nbformat": 4,
 "nbformat_minor": 5
}
